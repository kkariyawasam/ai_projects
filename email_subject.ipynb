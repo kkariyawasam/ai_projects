{
 "cells": [
  {
   "cell_type": "markdown",
   "id": "1a6f409f-357a-406e-be1e-da59d77e296c",
   "metadata": {},
   "source": [
    "# <h3>Summarization Use Case: Generating a Short Subject Line for an Email</h3>\n",
    "\n",
    "This example demonstrates how to use OpenAI's API to analyze the contents of an email and suggest an appropriate short subject line. This feature is ideal for commercial email tools to improve efficiency and clarity in email communication.\n"
   ]
  },
  {
   "cell_type": "code",
   "execution_count": 1,
   "id": "890ede3a-56ab-4bc5-8b66-eaff623a7d3c",
   "metadata": {},
   "outputs": [],
   "source": [
    "import os\n",
    "import requests\n",
    "from dotenv import load_dotenv\n",
    "from bs4 import BeautifulSoup\n",
    "from IPython.display import Markdown, display\n",
    "from openai import OpenAI"
   ]
  },
  {
   "cell_type": "code",
   "execution_count": 2,
   "id": "d01b510d-ed98-4d87-a037-f1264780135c",
   "metadata": {},
   "outputs": [
    {
     "name": "stdout",
     "output_type": "stream",
     "text": [
      "API key found and looks good so far!\n"
     ]
    }
   ],
   "source": [
    "# Load environment variables in a file called .env\n",
    "\n",
    "load_dotenv()\n",
    "api_key = os.getenv('OPENAI_API_KEY')\n",
    "\n",
    "# Check the key\n",
    "\n",
    "if not api_key:\n",
    "    print(\"No API key was found - please head over to the troubleshooting notebook in this folder to identify & fix!\")\n",
    "elif not api_key.startswith(\"sk-proj-\"):\n",
    "    print(\"An API key was found, but it doesn't start sk-proj-; please check you're using the right key - see troubleshooting notebook\")\n",
    "elif api_key.strip() != api_key:\n",
    "    print(\"An API key was found, but it looks like it might have space or tab characters at the start or end - please remove them - see troubleshooting notebook\")\n",
    "else:\n",
    "    print(\"API key found and looks good so far!\")"
   ]
  },
  {
   "cell_type": "code",
   "execution_count": 3,
   "id": "aca17d89-76bc-4420-8ae4-b6c7943d991c",
   "metadata": {},
   "outputs": [],
   "source": [
    "openai = OpenAI()"
   ]
  },
  {
   "cell_type": "code",
   "execution_count": 4,
   "id": "65045b82-73a0-44ef-92c6-443cdd3c0abb",
   "metadata": {},
   "outputs": [
    {
     "name": "stdout",
     "output_type": "stream",
     "text": [
      "Hello! It’s great to hear from you! How can I assist you today?\n"
     ]
    }
   ],
   "source": [
    "message = \"Hello, GPT! This is my first ever message to you! Hi!\"\n",
    "response = openai.chat.completions.create(model=\"gpt-4o-mini\", messages=[{\"role\":\"user\", \"content\":message}])\n",
    "print(response.choices[0].message.content)"
   ]
  },
  {
   "cell_type": "code",
   "execution_count": 6,
   "id": "a6698272-369f-44ac-aa17-cf33fadd4063",
   "metadata": {},
   "outputs": [
    {
     "name": "stdout",
     "output_type": "stream",
     "text": [
      "Subject: Project Update: Phase 1 Completed Ahead of Schedule\n"
     ]
    }
   ],
   "source": [
    "# Step 1: Create your prompts\n",
    "system_prompt = \"You are an expert email assistant. Based on the content of the email, suggest an appropriate and concise subject line.\"\n",
    "\n",
    "user_prompt = \"\"\"\n",
    "    Dear Team,\n",
    "\n",
    "    I wanted to share a quick update regarding the project's status. We have made significant progress and completed Phase 1 ahead of schedule. \n",
    "    Phase 2 is currently underway, and we're targeting completion by the end of next month. Please let me know if there's anything specific you would like us to address in Phase 2.\n",
    "\n",
    "    Best regards,\n",
    "    John Doe\n",
    "\"\"\"\n",
    "\n",
    "# Step 2: Make the messages list\n",
    "messages = [\n",
    "    {\"role\": \"system\", \"content\": system_prompt},\n",
    "    {\"role\": \"user\", \"content\": user_prompt}\n",
    "]\n",
    "\n",
    "# Step 3: Call OpenAI\n",
    "response = openai.chat.completions.create(\n",
    "    model=\"gpt-4o-mini\",  # Use the correct model identifier\n",
    "    messages=messages\n",
    ")\n",
    "\n",
    "# Step 4: Print the result\n",
    "print(response.choices[0].message.content)\n",
    "\n"
   ]
  },
  {
   "cell_type": "code",
   "execution_count": null,
   "id": "fd55f85f-e9b0-482c-a75f-434b0001e1fd",
   "metadata": {},
   "outputs": [],
   "source": []
  },
  {
   "cell_type": "code",
   "execution_count": null,
   "id": "f788110a-f587-4c66-84ec-a99d4f9a248a",
   "metadata": {},
   "outputs": [],
   "source": []
  }
 ],
 "metadata": {
  "kernelspec": {
   "display_name": "Python 3 (ipykernel)",
   "language": "python",
   "name": "python3"
  },
  "language_info": {
   "codemirror_mode": {
    "name": "ipython",
    "version": 3
   },
   "file_extension": ".py",
   "mimetype": "text/x-python",
   "name": "python",
   "nbconvert_exporter": "python",
   "pygments_lexer": "ipython3",
   "version": "3.11.7"
  }
 },
 "nbformat": 4,
 "nbformat_minor": 5
}
