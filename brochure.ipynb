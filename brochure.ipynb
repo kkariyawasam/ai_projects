{
 "cells": [
  {
   "cell_type": "markdown",
   "id": "cc4af6d6-d962-4e32-91fe-e9a7948f04b1",
   "metadata": {},
   "source": [
    "<h3>Brochure for a company to be used for prospective clients, investors and potential recruits.</h3>"
   ]
  },
  {
   "cell_type": "code",
   "execution_count": 1,
   "id": "57dda262-f2fb-4af1-a9d5-f52036cf81c4",
   "metadata": {},
   "outputs": [],
   "source": [
    "import os\n",
    "import requests\n",
    "import json\n",
    "from typing import List\n",
    "from dotenv import load_dotenv\n",
    "from bs4 import BeautifulSoup\n",
    "from IPython.display import Markdown, display, update_display\n",
    "from openai import OpenAI"
   ]
  },
  {
   "cell_type": "code",
   "execution_count": 2,
   "id": "0ad360d4-5668-4351-a548-8c8c4eeb03c9",
   "metadata": {},
   "outputs": [
    {
     "name": "stdout",
     "output_type": "stream",
     "text": [
      "API key looks good so far\n"
     ]
    }
   ],
   "source": [
    "# Initialize and constants\n",
    "\n",
    "load_dotenv()\n",
    "api_key = os.getenv('OPENAI_API_KEY')\n",
    "\n",
    "if api_key and api_key.startswith('sk-proj-') and len(api_key)>10:\n",
    "    print(\"API key looks good so far\")\n",
    "else:\n",
    "    print(\"There might be a problem with your API key? Please visit the troubleshooting notebook!\")\n",
    "    \n",
    "MODEL = 'gpt-4o-mini'\n",
    "openai = OpenAI()"
   ]
  },
  {
   "cell_type": "code",
   "execution_count": 3,
   "id": "16f0c012-ba05-47e1-898c-d97d130f8273",
   "metadata": {},
   "outputs": [],
   "source": [
    "# A class to represent a Webpage\n",
    "\n",
    "# Some websites need you to use proper headers when fetching them:\n",
    "headers = {\n",
    " \"User-Agent\": \"Mozilla/5.0 (Windows NT 10.0; Win64; x64) AppleWebKit/537.36 (KHTML, like Gecko) Chrome/117.0.0.0 Safari/537.36\"\n",
    "}\n",
    "\n",
    "class Website:\n",
    "    \"\"\"\n",
    "    A utility class to represent a Website that we have scraped, now with links\n",
    "    \"\"\"\n",
    "\n",
    "    def __init__(self, url):\n",
    "        self.url = url\n",
    "        response = requests.get(url, headers=headers)\n",
    "        self.body = response.content\n",
    "        soup = BeautifulSoup(self.body, 'html.parser')\n",
    "        self.title = soup.title.string if soup.title else \"No title found\"\n",
    "        if soup.body:\n",
    "            for irrelevant in soup.body([\"script\", \"style\", \"img\", \"input\"]):\n",
    "                irrelevant.decompose()\n",
    "            self.text = soup.body.get_text(separator=\"\\n\", strip=True)\n",
    "        else:\n",
    "            self.text = \"\"\n",
    "        links = [link.get('href') for link in soup.find_all('a')]\n",
    "        self.links = [link for link in links if link]\n",
    "\n",
    "    def get_contents(self):\n",
    "        return f\"Webpage Title:\\n{self.title}\\nWebpage Contents:\\n{self.text}\\n\\n\""
   ]
  },
  {
   "cell_type": "code",
   "execution_count": 4,
   "id": "36ee4b98-99e5-4fab-900e-ddb8e72d0d94",
   "metadata": {},
   "outputs": [],
   "source": [
    "link_system_prompt = \"You are provided with a list of links found on a webpage. \\\n",
    "You are able to decide which of the links would be most relevant to include in a brochure about the company, \\\n",
    "such as links to an About page, or a Company page, or Careers/Jobs pages.\\n\"\n",
    "link_system_prompt += \"You should respond in JSON as in this example:\"\n",
    "link_system_prompt += \"\"\"\n",
    "{\n",
    "    \"links\": [\n",
    "        {\"type\": \"about page\", \"url\": \"https://full.url/goes/here/about\"},\n",
    "        {\"type\": \"careers page\": \"url\": \"https://another.full.url/careers\"}\n",
    "    ]\n",
    "}\n",
    "\"\"\""
   ]
  },
  {
   "cell_type": "code",
   "execution_count": 5,
   "id": "8667c03a-4049-4a1d-8ae9-ed7d8918861f",
   "metadata": {},
   "outputs": [],
   "source": [
    "def get_links_user_prompt(website):\n",
    "    user_prompt = f\"Here is the list of links on the website of {website.url} - \"\n",
    "    user_prompt += \"please decide which of these are relevant web links for a brochure about the company, respond with the full https URL in JSON format. \\\n",
    "Do not include Terms of Service, Privacy, email links.\\n\"\n",
    "    user_prompt += \"Links (some might be relative links):\\n\"\n",
    "    user_prompt += \"\\n\".join(website.links)\n",
    "    return user_prompt"
   ]
  },
  {
   "cell_type": "code",
   "execution_count": 6,
   "id": "aceae69c-fc14-4e17-a7a3-06d785aff9b0",
   "metadata": {},
   "outputs": [],
   "source": [
    "def get_links(url):\n",
    "    website = Website(url)\n",
    "    response = openai.chat.completions.create(\n",
    "        model=MODEL,\n",
    "        messages=[\n",
    "            {\"role\": \"system\", \"content\": link_system_prompt},\n",
    "            {\"role\": \"user\", \"content\": get_links_user_prompt(website)}\n",
    "      ],\n",
    "        response_format={\"type\": \"json_object\"}\n",
    "    )\n",
    "    result = response.choices[0].message.content\n",
    "    return json.loads(result)"
   ]
  },
  {
   "cell_type": "code",
   "execution_count": 7,
   "id": "f0df4cb0-5e61-471e-959b-1ccda19dbcab",
   "metadata": {},
   "outputs": [],
   "source": [
    "def get_all_details(url):\n",
    "    result = \"Landing page:\\n\"\n",
    "    result += Website(url).get_contents()\n",
    "    links = get_links(url)\n",
    "    print(\"Found links:\", links)\n",
    "    for link in links[\"links\"]:\n",
    "        result += f\"\\n\\n{link['type']}\\n\"\n",
    "        result += Website(link[\"url\"]).get_contents()\n",
    "    return result"
   ]
  },
  {
   "cell_type": "code",
   "execution_count": 8,
   "id": "11cd2529-c1b6-428b-b163-30ed7aeb2fc7",
   "metadata": {},
   "outputs": [],
   "source": [
    "# system_prompt = \"You are an assistant that analyzes the contents of several relevant pages from a company website \\\n",
    "# and creates a short brochure about the company for prospective customers, investors and recruits. Respond in markdown.\\\n",
    "# Include details of company culture, customers and careers/jobs if you have the information.\"\n",
    "\n",
    "# Or uncomment the lines below for a more humorous brochure - this demonstrates how easy it is to incorporate 'tone':\n",
    "\n",
    "system_prompt = \"You are an assistant that analyzes the contents of several relevant pages from a company website \\\n",
    "and creates a short humorous, entertaining, jokey brochure about the company for prospective customers, investors and recruits. Respond in markdown.\\\n",
    "Include details of company culture, customers and careers/jobs if you have the information.\""
   ]
  },
  {
   "cell_type": "code",
   "execution_count": 9,
   "id": "2fecb6d9-5075-4967-8b86-39899596ab9c",
   "metadata": {},
   "outputs": [],
   "source": [
    "def get_brochure_user_prompt(company_name, url):\n",
    "    user_prompt = f\"You are looking at a company called: {company_name}\\n\"\n",
    "    user_prompt += f\"Here are the contents of its landing page and other relevant pages; use this information to build a short brochure of the company in markdown.\\n\"\n",
    "    user_prompt += get_all_details(url)\n",
    "    user_prompt = user_prompt[:5_000] # Truncate if more than 5,000 characters\n",
    "    return user_prompt"
   ]
  },
  {
   "cell_type": "code",
   "execution_count": 10,
   "id": "195a6072-1110-4dd9-b51f-0534db862a68",
   "metadata": {},
   "outputs": [],
   "source": [
    "def create_brochure(company_name, url):\n",
    "    response = openai.chat.completions.create(\n",
    "        model=MODEL,\n",
    "        messages=[\n",
    "            {\"role\": \"system\", \"content\": system_prompt},\n",
    "            {\"role\": \"user\", \"content\": get_brochure_user_prompt(company_name, url)}\n",
    "          ],\n",
    "    )\n",
    "    result = response.choices[0].message.content\n",
    "    display(Markdown(result))"
   ]
  },
  {
   "cell_type": "code",
   "execution_count": 11,
   "id": "825353c9-87a6-4079-b70f-a215fbff1233",
   "metadata": {
    "scrolled": true
   },
   "outputs": [
    {
     "name": "stdout",
     "output_type": "stream",
     "text": [
      "Found links: {'links': []}\n"
     ]
    },
    {
     "data": {
      "text/markdown": [
       "# 🌟 Welcome to Shein: The Fashion Wonderland! 🌟\n",
       "\n",
       "## Where Style Meets Savings 🎉 \n",
       "\n",
       "Are you tired of wasting your precious time in crowded malls? Or sifting through endless racks of *meh* clothes? Look no further! Shein is your online haven for all things fabulous—at prices so good you might think we’re playing dress-up in a secret discount vault!\n",
       "\n",
       "---\n",
       "\n",
       "## Fashion for Everyone! 👗👖\n",
       "\n",
       "At Shein, we believe that everyone deserves to look chic without breaking the bank. Whether you’re shopping for women, kids, men, or even searching that elusive Curve piece that flatters all types, we have it all! And if an item goes out of style, don’t worry—we have a sale for that! 🎊\n",
       "\n",
       "- **Women**: From sassy tops to glamorous dresses.  \n",
       "- **Men**: Because fashion isn't just for ladies (although, they do it best).  \n",
       "- **Kids**: Tiny Tots = Big Style!  \n",
       "- **Home & Living**: Turn your space into Instagram’s #1 contender! 🏠\n",
       "\n",
       "---\n",
       "\n",
       "## 🚢 Shipping and Returns: Easier Than Your Morning Coffee! ☕\n",
       "\n",
       "- **Free Returns** within 30 days! Seriously! If it’s not love at first sight, send it back (but we genuinely hope it is).  \n",
       "- You can even snag an **E-Gift Card** because who doesn’t love receiving cash in a virtual envelope? 🎁 \n",
       "\n",
       "---\n",
       "\n",
       "## Employee Culture: The ‘Shein’ State of Mind! 💼\n",
       "\n",
       "We believe in fashion, fun, and a sprinkle of madness! Join us, and you’ll find a culture built on creativity, collaboration, and coffee (lots of coffee!). From 'Taco Tuesdays' to spontaneous dance-offs, our office feels like a fun party—one with trendy outfits, of course! \n",
       "\n",
       "### We’re Hiring! 🌟\n",
       "\n",
       "- Looking for parts in our storytellers, trendsetters, and outfit connoisseurs crew?\n",
       "- Fabulous opportunities await you! Come unleash your inner fashionista.\n",
       "\n",
       "---\n",
       "\n",
       "## Join the Shein Family! 🥳\n",
       "\n",
       "Why shop somewhere else? At Shein, we craft an experience fit for a runway without a runway budget. Swipe right on that **FREE TRIAL** thing! (Wait, are we still on dating apps? 🤔)\n",
       "\n",
       "Grab all this while enjoying our FLASH SALES that practically scream \"Take my money!\" Plus, with our app, you're always just one click away from your next wardrobe update. \n",
       "\n",
       "## Ready to Turn Heads? 🔄\n",
       "\n",
       "So what are you waiting for? Dive into the world of Shein—where haute couture meets ‘haute can’t believe how cheap this is!’ \n",
       "\n",
       "---\n",
       "\n",
       "Come for the fashion, stay for the savings, and who knows? You might just become a ‘Shein-stant’ fashion icon! 💃✨\n",
       "\n",
       "*Disclaimer: Side effects may include an overflowing closet, spontaneous fashion shows in your living room, and an overwhelming number of selfies.* 🤳🎉\n",
       "\n",
       "--- \n",
       "\n",
       "# Shop Now at [Shein](https://www.shein.com)! "
      ],
      "text/plain": [
       "<IPython.core.display.Markdown object>"
      ]
     },
     "metadata": {},
     "output_type": "display_data"
    }
   ],
   "source": [
    "create_brochure(\"Shein\", \"https://m.shein.com/eur/?lang=eur\")"
   ]
  },
  {
   "cell_type": "markdown",
   "id": "3970614f-ef5a-475f-ac49-c5276bd40922",
   "metadata": {},
   "source": [
    " <h2>Typewriter animation</h2>"
   ]
  },
  {
   "cell_type": "code",
   "execution_count": 12,
   "id": "5b849714-14b9-4bb0-84f9-ce1138123f21",
   "metadata": {},
   "outputs": [],
   "source": [
    "def stream_brochure(company_name, url):\n",
    "    stream = openai.chat.completions.create(\n",
    "        model=MODEL,\n",
    "        messages=[\n",
    "            {\"role\": \"system\", \"content\": system_prompt},\n",
    "            {\"role\": \"user\", \"content\": get_brochure_user_prompt(company_name, url)}\n",
    "          ],\n",
    "        stream=True\n",
    "    )\n",
    "    \n",
    "    response = \"\"\n",
    "    display_handle = display(Markdown(\"\"), display_id=True)\n",
    "    for chunk in stream:\n",
    "        response += chunk.choices[0].delta.content or ''\n",
    "        response = response.replace(\"```\",\"\").replace(\"markdown\", \"\")\n",
    "        update_display(Markdown(response), display_id=display_handle.display_id)"
   ]
  },
  {
   "cell_type": "code",
   "execution_count": 13,
   "id": "e30dbb0f-bd5e-419b-9bd5-b62f8615c3d5",
   "metadata": {},
   "outputs": [
    {
     "name": "stdout",
     "output_type": "stream",
     "text": [
      "Found links: {'links': []}\n"
     ]
    },
    {
     "data": {
      "text/markdown": [
       "\n",
       "# Welcome to SHEIN: Where Your Closet Dreams Come True!\n",
       "\n",
       "## Who Are We? 🤔\n",
       "SHEIN isn’t just another fashion retailer; we’re your ticket to an endless wardrobe adventure. Imagine a world where your closet is as vibrant as your personality—well, that world is just a click away! Whether you're a trendsetting queen, a comfy chic enthusiast, or a shoe fanatic, we’ve got your back (and your front, and your sides). \n",
       "\n",
       "## What Do We Offer? 📦\n",
       "- **Endless Fashion Choices:** From Curve, Home, to kids and beyond, we’ve got something for everyone in the family. Dress up your little ones, get stylish for yourselves, and don’t forget your pet—just kidding, we don’t sell pet clothes (yet).\n",
       "- **Massive Sales Galore:** Who doesn’t love a good bargain? Our **Flash Sale** will have you saving while you splurge! \n",
       "- **Free Returns:** Not happy with your purchase? No worries! Just send it back within 30 days. (But we know you’ll love everything—you have good taste!)\n",
       "\n",
       "## Customers Like You 💃\n",
       "SHEIN caters to the fashion-loving folks of the world. Whether you're a *\"Shopaholic McFashionista\"* or someone who's just trying to stay trendy while binging on Netflix, we’ve got styles as diverse as our customer base. Straight from the runway to your wardrobe, we serve looks that even your friends will envy—or at least comment on!\n",
       "\n",
       "## A Culture of Style 🕺\n",
       "At SHEIN, we believe fashion should be as inclusive and diverse as a box of assorted chocolates (the good kind, not the ones you hide in the back of the pantry). Our team is a creative bunch who live, breathe, and kind of eat fashion (don’t worry, we brush our teeth). \n",
       "\n",
       "## Careers with SHEIN 🚀\n",
       "Join us on this fierce fashion journey! We’re always on the lookout for passionate individuals who want to bring style into the lives of others. Whether you have an eye for design, a knack for marketing, or just know how to rock a pair of shoes, we want to hear from you! Here’s a tip: don’t forget that fabulous outfit; we love a good entrance!\n",
       "\n",
       "## Why Choose SHEIN? 🌟\n",
       "- **Fashion that doesn’t break the bank:** Enjoy affordable styles that won’t make your wallet weep.\n",
       "- **Accessibility:** Fashion is for all! Whether you're tall, short, wide, or slim, we’ve got what you need. \n",
       "- **The SHEIN Family:** Join our community and enjoy the perks, discounts, and occasional surprise freebie!\n",
       "\n",
       "So what are you waiting for? Dive into the world of SHEIN, fill your cart, and let your fashion journey begin! \n",
       "\n",
       "---\n",
       "\n",
       "*Disclaimer: No pets were harmed in the making of this brochure. Friendly cats may approve of the fabric quality.* 🚫🐱\n"
      ],
      "text/plain": [
       "<IPython.core.display.Markdown object>"
      ]
     },
     "metadata": {},
     "output_type": "display_data"
    }
   ],
   "source": [
    "stream_brochure(\"Shein\", \"https://m.shein.com/eur/?lang=eur\")"
   ]
  }
 ],
 "metadata": {
  "kernelspec": {
   "display_name": "Python 3 (ipykernel)",
   "language": "python",
   "name": "python3"
  },
  "language_info": {
   "codemirror_mode": {
    "name": "ipython",
    "version": 3
   },
   "file_extension": ".py",
   "mimetype": "text/x-python",
   "name": "python",
   "nbconvert_exporter": "python",
   "pygments_lexer": "ipython3",
   "version": "3.11.7"
  }
 },
 "nbformat": 4,
 "nbformat_minor": 5
}
