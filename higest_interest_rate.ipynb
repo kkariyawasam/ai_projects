{
 "cells": [
  {
   "cell_type": "code",
   "execution_count": 1,
   "id": "77085c30-ba27-4970-9a39-d90c14e22c9a",
   "metadata": {},
   "outputs": [],
   "source": [
    "import os\n",
    "import requests\n",
    "from dotenv import load_dotenv\n",
    "from bs4 import BeautifulSoup\n",
    "from IPython.display import Markdown, display\n",
    "from openai import OpenAI"
   ]
  },
  {
   "cell_type": "code",
   "execution_count": 2,
   "id": "c9eb4864-4d45-4508-9238-8de543b3018b",
   "metadata": {},
   "outputs": [
    {
     "name": "stdout",
     "output_type": "stream",
     "text": [
      "API key found and looks good so far!\n"
     ]
    }
   ],
   "source": [
    "load_dotenv()\n",
    "api_key = os.getenv('OPENAI_API_KEY')\n",
    "\n",
    "# Check the key\n",
    "\n",
    "if not api_key:\n",
    "    print(\"No API key was found - please head over to the troubleshooting notebook in this folder to identify & fix!\")\n",
    "elif not api_key.startswith(\"sk-proj-\"):\n",
    "    print(\"An API key was found, but it doesn't start sk-proj-; please check you're using the right key - see troubleshooting notebook\")\n",
    "elif api_key.strip() != api_key:\n",
    "    print(\"An API key was found, but it looks like it might have space or tab characters at the start or end - please remove them - see troubleshooting notebook\")\n",
    "else:\n",
    "    print(\"API key found and looks good so far!\")"
   ]
  },
  {
   "cell_type": "code",
   "execution_count": 3,
   "id": "d0638299-96d1-4685-a939-bd0418d1c7ab",
   "metadata": {},
   "outputs": [],
   "source": [
    "openai = OpenAI()"
   ]
  },
  {
   "cell_type": "code",
   "execution_count": 4,
   "id": "7ccd57de-d188-43ec-a7bd-3ddc9b6482a0",
   "metadata": {},
   "outputs": [
    {
     "name": "stdout",
     "output_type": "stream",
     "text": [
      "Hello! It’s great to hear from you! How can I assist you today?\n"
     ]
    }
   ],
   "source": [
    "message = \"Hello, GPT! This is my first ever message to you! Hi!\"\n",
    "response = openai.chat.completions.create(model=\"gpt-4o-mini\", messages=[{\"role\":\"user\", \"content\":message}])\n",
    "print(response.choices[0].message.content)"
   ]
  },
  {
   "cell_type": "code",
   "execution_count": 7,
   "id": "3331b7a5-c6a6-4f21-8c9e-bb513552f65e",
   "metadata": {},
   "outputs": [
    {
     "name": "stdout",
     "output_type": "stream",
     "text": [
      "Bank Results:\n",
      "https://www.combank.lk/business-banking/domestic-banking/fixed-deposits: The interest rate for a one-year fixed deposit is as follows:\n",
      "\n",
      "- **12 Months - Interest paid monthly (LKR)**: 7.38% \n",
      "- **12 Months - Interest at maturity (LKR)**: 7.50% \n",
      "\n",
      "\n",
      "https://www.peoplesbank.lk/interest-rates/: The interest rate for a one-year fixed deposit is 7.00% per annum.\n",
      "https://www.nationstrust.com/deposit-rates: The interest rate for a one-year fixed deposit is 8.60% (AER 8.60) for interest paid annually and 7.25% (AER 7.50) for interest paid at maturity.\n",
      "\n",
      "The highest interest rate for a one-year fixed deposit is 8.6% at https://www.nationstrust.com/deposit-rates.\n"
     ]
    }
   ],
   "source": [
    "system_prompt = \"\"\"\n",
    "You are a web content analyzer. Your task is to extract the interest rate for a one-year fixed deposit from the provided webpage content.\n",
    "Focus only on the relevant information and ignore unrelated text. If no information about a one-year fixed deposit is found, respond with 'Interest rate for a one-year fixed deposit not found.'\n",
    "\"\"\"\n",
    "\n",
    "# Step 2: Fetch webpage content (scraping)\n",
    "bank_urls = [\n",
    "    \"https://www.combank.lk/business-banking/domestic-banking/fixed-deposits\",  # Example URL 1\n",
    "    \"https://www.peoplesbank.lk/interest-rates/\",                               # Example URL 2\n",
    "    \"https://www.nationstrust.com/deposit-rates\"\n",
    "]\n",
    "\n",
    "bank_results = {}\n",
    "\n",
    "for url in bank_urls:\n",
    "    try:\n",
    "        # Fetch webpage content\n",
    "        response = requests.get(url)\n",
    "        soup = BeautifulSoup(response.text, 'html.parser')\n",
    "        webpage_content = soup.get_text()\n",
    "\n",
    "        # Define user prompt for the current bank\n",
    "        user_prompt = f\"\"\"\n",
    "        Analyze the following content extracted from a bank's website and find the interest rate for a one-year fixed deposit:\n",
    "        {webpage_content}\n",
    "        \"\"\"\n",
    "\n",
    "        # Step 4: Prepare the messages list\n",
    "        messages = [\n",
    "            {\"role\": \"system\", \"content\": system_prompt},\n",
    "            {\"role\": \"user\", \"content\": user_prompt}\n",
    "        ]\n",
    "\n",
    "        # Step 5: Call OpenAI\n",
    "        response = openai.chat.completions.create(\n",
    "            model=\"gpt-4o-mini\",  # Replace with the correct model ID\n",
    "            messages=messages\n",
    "        )\n",
    "\n",
    "        result = response.choices[0].message.content\n",
    "        bank_results[url] = result\n",
    "\n",
    "    except Exception as e:\n",
    "        bank_results[url] = f\"Error: {e}\"\n",
    "\n",
    "highest_rate = 0.0\n",
    "highest_rate_bank = None\n",
    "\n",
    "for url, result in bank_results.items():\n",
    "    # Extract numeric value of interest rate from the result\n",
    "    try:\n",
    "        if \"not found\" not in result.lower():\n",
    "            # Find numbers (assumes interest rate is a percentage)\n",
    "            rate = float(next(filter(lambda x: \"%\" in x, result.split())).replace(\"%\", \"\"))\n",
    "            if rate > highest_rate:\n",
    "                highest_rate = rate\n",
    "                highest_rate_bank = url\n",
    "    except Exception:\n",
    "        pass  # Ignore errors during rate extraction\n",
    "\n",
    "print(\"Bank Results:\")\n",
    "for url, result in bank_results.items():\n",
    "    print(f\"{url}: {result}\")\n",
    "\n",
    "if highest_rate_bank:\n",
    "    print(f\"\\nThe highest interest rate for a one-year fixed deposit is {highest_rate}% at {highest_rate_bank}.\")\n",
    "else:\n",
    "    print(\"\\nNo valid interest rates found for a one-year fixed deposit.\")\n"
   ]
  },
  {
   "cell_type": "code",
   "execution_count": null,
   "id": "9ede48b2-3090-4e15-8288-42025369727e",
   "metadata": {},
   "outputs": [],
   "source": []
  }
 ],
 "metadata": {
  "kernelspec": {
   "display_name": "Python 3 (ipykernel)",
   "language": "python",
   "name": "python3"
  },
  "language_info": {
   "codemirror_mode": {
    "name": "ipython",
    "version": 3
   },
   "file_extension": ".py",
   "mimetype": "text/x-python",
   "name": "python",
   "nbconvert_exporter": "python",
   "pygments_lexer": "ipython3",
   "version": "3.11.7"
  }
 },
 "nbformat": 4,
 "nbformat_minor": 5
}
